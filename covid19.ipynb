{
 "cells": [
  {
   "cell_type": "code",
   "execution_count": 2,
   "id": "1b73b9c6-136f-4440-9750-5e8355187790",
   "metadata": {},
   "outputs": [
    {
     "name": "stdout",
     "output_type": "stream",
     "text": [
      "Index(['cord_uid', 'sha', 'source_x', 'title', 'doi', 'pmcid', 'pubmed_id',\n",
      "       'license', 'abstract', 'publish_time', 'authors', 'journal', 'mag_id',\n",
      "       'who_covidence_id', 'arxiv_id', 'pdf_json_files', 'pmc_json_files',\n",
      "       'url', 's2_id'],\n",
      "      dtype='object')\n"
     ]
    }
   ],
   "source": [
    "import matplotlib.pyplot as plt\n",
    "import seaborn as sns\n",
    "import numpy as np\n",
    "import pandas as pd\n",
    "df = pd.read_csv(\"/Users/mineozfen/Desktop/metadata.csv\",low_memory=False )\n",
    "df.head() ##İlk beş satırı döndürür\n",
    "print(df.columns)"
   ]
  },
  {
   "cell_type": "code",
   "execution_count": 3,
   "id": "7f89afe2-b28a-4b13-b5ad-227aac03efc5",
   "metadata": {},
   "outputs": [
    {
     "name": "stdout",
     "output_type": "stream",
     "text": [
      "   cord_uid                                       sha source_x  \\\n",
      "0  ug7v899j  d1aafb70c066a2068b02786f8929fd9c900897fb      PMC   \n",
      "1  02tnwd4m  6b0567729c2143a66d737eb0a2f63f2dce2e5a7d      PMC   \n",
      "2  ejv2xln0  06ced00a5fc04215949aa72528f2eeaae1d58927      PMC   \n",
      "3  2b73a28n  348055649b6b8cf2b9a376498df9bf41f7123605      PMC   \n",
      "4  9785vg6d  5f48792a5fa08bed9f56016f4981ae2ca6031b32      PMC   \n",
      "\n",
      "                                               title                    doi  \\\n",
      "0  Clinical features of culture-proven Mycoplasma...  10.1186/1471-2334-1-6   \n",
      "1  Nitric oxide: a pro-inflammatory mediator in l...           10.1186/rr14   \n",
      "2    Surfactant protein-D and pulmonary host defense           10.1186/rr19   \n",
      "3               Role of endothelin-1 in lung disease           10.1186/rr44   \n",
      "4  Gene expression in epithelial cells in respons...           10.1186/rr61   \n",
      "\n",
      "      pmcid pubmed_id license  \\\n",
      "0  PMC35282  11472636   no-cc   \n",
      "1  PMC59543  11667967   no-cc   \n",
      "2  PMC59549  11667972   no-cc   \n",
      "3  PMC59574  11686871   no-cc   \n",
      "4  PMC59580  11686888   no-cc   \n",
      "\n",
      "                                            abstract publish_time  \\\n",
      "0  OBJECTIVE: This retrospective chart review des...   2001-07-04   \n",
      "1  Inflammatory diseases of the respiratory tract...   2000-08-15   \n",
      "2  Surfactant protein-D (SP-D) participates in th...   2000-08-25   \n",
      "3  Endothelin-1 (ET-1) is a 21 amino acid peptide...   2001-02-22   \n",
      "4  Respiratory syncytial virus (RSV) and pneumoni...   2001-05-11   \n",
      "\n",
      "                                             authors         journal  mag_id  \\\n",
      "0                Madani, Tariq A; Al-Ghamdi, Aisha A  BMC Infect Dis     NaN   \n",
      "1  Vliet, Albert van der; Eiserich, Jason P; Cros...      Respir Res     NaN   \n",
      "2                                    Crouch, Erika C      Respir Res     NaN   \n",
      "3  Fagan, Karen A; McMurtry, Ivan F; Rodman, David M      Respir Res     NaN   \n",
      "4  Domachowske, Joseph B; Bonville, Cynthia A; Ro...      Respir Res     NaN   \n",
      "\n",
      "  who_covidence_id arxiv_id  \\\n",
      "0              NaN      NaN   \n",
      "1              NaN      NaN   \n",
      "2              NaN      NaN   \n",
      "3              NaN      NaN   \n",
      "4              NaN      NaN   \n",
      "\n",
      "                                      pdf_json_files  \\\n",
      "0  document_parses/pdf_json/d1aafb70c066a2068b027...   \n",
      "1  document_parses/pdf_json/6b0567729c2143a66d737...   \n",
      "2  document_parses/pdf_json/06ced00a5fc04215949aa...   \n",
      "3  document_parses/pdf_json/348055649b6b8cf2b9a37...   \n",
      "4  document_parses/pdf_json/5f48792a5fa08bed9f560...   \n",
      "\n",
      "                               pmc_json_files  \\\n",
      "0  document_parses/pmc_json/PMC35282.xml.json   \n",
      "1  document_parses/pmc_json/PMC59543.xml.json   \n",
      "2  document_parses/pmc_json/PMC59549.xml.json   \n",
      "3  document_parses/pmc_json/PMC59574.xml.json   \n",
      "4  document_parses/pmc_json/PMC59580.xml.json   \n",
      "\n",
      "                                                 url  s2_id  \n",
      "0  https://www.ncbi.nlm.nih.gov/pmc/articles/PMC3...    NaN  \n",
      "1  https://www.ncbi.nlm.nih.gov/pmc/articles/PMC5...    NaN  \n",
      "2  https://www.ncbi.nlm.nih.gov/pmc/articles/PMC5...    NaN  \n",
      "3  https://www.ncbi.nlm.nih.gov/pmc/articles/PMC5...    NaN  \n",
      "4  https://www.ncbi.nlm.nih.gov/pmc/articles/PMC5...    NaN  \n",
      "<class 'pandas.core.frame.DataFrame'>\n",
      "RangeIndex: 1056660 entries, 0 to 1056659\n",
      "Data columns (total 19 columns):\n",
      " #   Column            Non-Null Count    Dtype  \n",
      "---  ------            --------------    -----  \n",
      " 0   cord_uid          1056660 non-null  object \n",
      " 1   sha               373766 non-null   object \n",
      " 2   source_x          1056660 non-null  object \n",
      " 3   title             1056157 non-null  object \n",
      " 4   doi               656780 non-null   object \n",
      " 5   pmcid             389571 non-null   object \n",
      " 6   pubmed_id         498932 non-null   object \n",
      " 7   license           1056660 non-null  object \n",
      " 8   abstract          821116 non-null   object \n",
      " 9   publish_time      1054846 non-null  object \n",
      " 10  authors           1032791 non-null  object \n",
      " 11  journal           969338 non-null   object \n",
      " 12  mag_id            0 non-null        float64\n",
      " 13  who_covidence_id  482935 non-null   object \n",
      " 14  arxiv_id          14249 non-null    object \n",
      " 15  pdf_json_files    373766 non-null   object \n",
      " 16  pmc_json_files    315742 non-null   object \n",
      " 17  url               686934 non-null   object \n",
      " 18  s2_id             976468 non-null   float64\n",
      "dtypes: float64(2), object(17)\n",
      "memory usage: 153.2+ MB\n",
      "None\n",
      "mag_id              1056660\n",
      "arxiv_id            1042411\n",
      "pmc_json_files       740918\n",
      "pdf_json_files       682894\n",
      "sha                  682894\n",
      "pmcid                667089\n",
      "who_covidence_id     573725\n",
      "pubmed_id            557728\n",
      "doi                  399880\n",
      "url                  369726\n",
      "abstract             235544\n",
      "journal               87322\n",
      "s2_id                 80192\n",
      "authors               23869\n",
      "publish_time           1814\n",
      "title                   503\n",
      "license                   0\n",
      "source_x                  0\n",
      "cord_uid                  0\n",
      "dtype: int64\n",
      "Satır sayısı: 1056660, Sütun sayısı: 19\n"
     ]
    }
   ],
   "source": [
    "# İlk 5 satırı göster\n",
    "print(df.head())\n",
    "\n",
    "# Genel bilgi\n",
    "print(df.info())\n",
    "\n",
    "# Eksik değer sayısı\n",
    "print(df.isnull().sum().sort_values(ascending=False))\n",
    "\n",
    "# Veri setinin kaç satır kaç sütun olduğu\n",
    "print(f\"Satır sayısı: {df.shape[0]}, Sütun sayısı: {df.shape[1]}\")\n"
   ]
  },
  {
   "cell_type": "code",
   "execution_count": 4,
   "id": "6f06141c-d054-48af-a3b4-99da2887d322",
   "metadata": {},
   "outputs": [
    {
     "name": "stdout",
     "output_type": "stream",
     "text": [
      "source_x\n",
      "WHO                            450459\n",
      "Medline; PMC                   150593\n",
      "Medline                        131531\n",
      "PMC                             80192\n",
      "Medline; PMC; WHO               65968\n",
      "Elsevier; Medline; PMC          49318\n",
      "Medline; WHO                    43928\n",
      "Elsevier; Medline; PMC; WHO     19794\n",
      "MedRxiv; WHO                    13756\n",
      "ArXiv                           13176\n",
      "Name: count, dtype: int64\n",
      "journal\n",
      "PLoS One                           9953\n",
      "bioRxiv                            8961\n",
      "Int J Environ Res Public Health    8201\n",
      "BMJ                                6928\n",
      "Sci Rep                            5935\n",
      "Cureus                             4212\n",
      "Reactions Weekly                   3891\n",
      "Front Psychol                      3541\n",
      "BMJ Open                           3515\n",
      "Front Immunol                      3442\n",
      "Name: count, dtype: int64\n"
     ]
    }
   ],
   "source": [
    "# En çok görülen kaynaklar\n",
    "print(df['source_x'].value_counts().head(10))\n",
    "\n",
    "# En çok yayınlanan dergiler\n",
    "print(df['journal'].value_counts().head(10))\n"
   ]
  },
  {
   "cell_type": "code",
   "execution_count": 5,
   "id": "cd853e0b-36ca-466d-bf6a-6d59ef707271",
   "metadata": {},
   "outputs": [
    {
     "data": {
      "image/png": "[encoded data removed]",
      "text/plain": [
       "<Figure size 1000x500 with 1 Axes>"
      ]
     },
     "metadata": {},
     "output_type": "display_data"
    }
   ],
   "source": [
    "# publish_time sütununu datetime'a çevir\n",
    "df['publish_time'] = pd.to_datetime(df['publish_time'], errors='coerce')\n",
    "\n",
    "# Yıla göre yayın sayısı\n",
    "df['publish_year'] = df['publish_time'].dt.year\n",
    "df['publish_year'].value_counts().sort_index().plot(kind='bar', figsize=(10,5))\n",
    "plt.title(\"Yıllara Göre Yayın Sayısı\")\n",
    "plt.xlabel(\"Yıl\")\n",
    "plt.ylabel(\"Yayın Sayısı\")\n",
    "plt.grid(True)\n",
    "plt.show()\n"
   ]
  },
  {
   "cell_type": "code",
   "execution_count": 6,
   "id": "39c88466-0744-4fe7-96af-0fa4b69c1fb5",
   "metadata": {},
   "outputs": [
    {
     "data": {
      "text/plain": [
       "authors\n",
       "Anonymous,           3904\n",
       "O039,                2532\n",
       "D039,                1689\n",
       "Wang, Wei             825\n",
       "Ieee,                 741\n",
       "Wiwanitkit, Viroj     716\n",
       "Zhang, Wei            635\n",
       "Mahase, Elisabeth     629\n",
       "Li, Yan               607\n",
       "Wang, Jing            596\n",
       "Name: count, dtype: int64"
      ]
     },
     "execution_count": 6,
     "metadata": {},
     "output_type": "execute_result"
    }
   ],
   "source": [
    "# En çok adı geçen yazar(lar)\n",
    "df['authors'].dropna().str.split(';').explode().str.strip().value_counts().head(10)\n"
   ]
  },
  {
   "cell_type": "code",
   "execution_count": 7,
   "id": "354f0799-8a05-49b0-932e-de7f01d40476",
   "metadata": {},
   "outputs": [
    {
     "name": "stdout",
     "output_type": "stream",
     "text": [
      "   Toplam Kayıt  Boş Başlık Sayısı  Boş Özet Sayısı En Çok Kaynak En Çok Dergi\n",
      "0       1056660                503           235544           WHO     PLoS One\n"
     ]
    }
   ],
   "source": [
    "summary = pd.DataFrame({\n",
    "    'Toplam Kayıt': [df.shape[0]],\n",
    "    'Boş Başlık Sayısı': [df['title'].isnull().sum()],\n",
    "    'Boş Özet Sayısı': [df['abstract'].isnull().sum()],\n",
    "    'En Çok Kaynak': [df['source_x'].value_counts().idxmax()],\n",
    "    'En Çok Dergi': [df['journal'].value_counts().idxmax()]\n",
    "})\n",
    "print(summary)\n"
   ]
  },
  {
   "cell_type": "code",
   "execution_count": 8,
   "id": "9f18bb9f-d17b-42ea-a8bb-9e7dab9a89b8",
   "metadata": {},
   "outputs": [
    {
     "name": "stdout",
     "output_type": "stream",
     "text": [
      "Farklı DOI sayısı: 655525\n"
     ]
    }
   ],
   "source": [
    "# Kaç farklı yayın DOI'si var?\n",
    "print(\"Farklı DOI sayısı:\", df['doi'].nunique())\n"
   ]
  },
  {
   "cell_type": "code",
   "execution_count": null,
   "id": "2fd54b49-7406-4644-ba2a-7221254e5668",
   "metadata": {},
   "outputs": [],
   "source": []
  }
 ],
 "metadata": {
  "kernelspec": {
   "display_name": "Python 3 (ipykernel)",
   "language": "python",
   "name": "python3"
  },
  "language_info": {
   "codemirror_mode": {
    "name": "ipython",
    "version": 3
   },
   "file_extension": ".py",
   "mimetype": "text/x-python",
   "name": "python",
   "nbconvert_exporter": "python",
   "pygments_lexer": "ipython3",
   "version": "3.10.13"
  }
 },
 "nbformat": 4,
 "nbformat_minor": 5
}
